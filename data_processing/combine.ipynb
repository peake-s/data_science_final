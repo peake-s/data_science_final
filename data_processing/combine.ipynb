{
 "cells": [
  {
   "cell_type": "code",
   "execution_count": 24,
   "metadata": {},
   "outputs": [],
   "source": [
    "import pandas as pd\n",
    "import matplotlib.pyplot as plt\n",
    "%matplotlib inline     \n",
    "import numpy as np \n",
    "import seaborn as sns"
   ]
  },
  {
   "cell_type": "code",
   "execution_count": 25,
   "metadata": {},
   "outputs": [],
   "source": [
    "cols = ['protein_seq','type']\n",
    "df= pd.read_csv('../ref_data/sequences_training.txt')\n",
    "df.columns = cols\n",
    "df_physio = pd.read_csv('../ref_data/final_physico-chemical_result.csv')\n",
    "df_residue_distance = pd.read_csv('../ref_data/final_DDOR_result.csv')\n",
    "df_aa_res = pd.read_csv('../ref_data/final_amino_acid_result.csv')\n",
    "df_shannon_entr = pd.read_csv('../ref_data/final_SE_prot_result.csv')\n",
    "df_residue_repeat = pd.read_csv('../ref_data/final_residue_repeat_result.csv')"
   ]
  },
  {
   "cell_type": "code",
   "execution_count": 26,
   "metadata": {},
   "outputs": [],
   "source": [
    "df_physio.drop(['ID'],axis=1,inplace=True)\n",
    "df_residue_distance.drop(['ID'],axis=1,inplace=True)\n",
    "df_aa_res.drop(['ID'],axis=1,inplace=True)\n",
    "df_shannon_entr.drop(['ID'],axis=1,inplace=True)\n",
    "df_residue_repeat.drop(['ID'],axis=1,inplace=True)"
   ]
  },
  {
   "cell_type": "code",
   "execution_count": 50,
   "metadata": {},
   "outputs": [],
   "source": [
    "def join_format(df_target,df_src):\n",
    "    ret_frame = df_src.join(df_target,lsuffix='_left', rsuffix='_right')\n",
    "    temp_cols = ret_frame.columns.tolist()\n",
    "    new_col =   temp_cols[0:1] + temp_cols[2:] + temp_cols[1:2]\n",
    "    ret_frame=ret_frame[new_col]\n",
    "    ret_frame.drop(['protein_seq'],axis=1,inplace=True)\n",
    "    return ret_frame"
   ]
  },
  {
   "cell_type": "code",
   "execution_count": 52,
   "metadata": {},
   "outputs": [],
   "source": [
    "df_physio_joined=join_format(df_physio,df)\n",
    "df_residue_distance_joined = join_format(df_residue_distance,df)\n",
    "df_residue_repeat_joined = join_format(df_residue_repeat,df)\n",
    "df_aminoacid_composition_joined = join_format(df_aa_res,df)\n",
    "df_shannon_entr = join_format(df_shannon_entr,df)"
   ]
  },
  {
   "cell_type": "code",
   "execution_count": null,
   "metadata": {},
   "outputs": [],
   "source": [
    "df_physio_joined.to_csv('physio_chem_prop_w_labels.csv')\n",
    "df_residue_distance_joined.to_csv('residue_distance_w_labels.csv')\n",
    "df_residue_repeat_joined.to_csv('residue_repeat_w_labels.csv')\n",
    "df_aminoacid_composition_joined.to_csv('amino_acid_comp_w_labels.csv')\n",
    "df_shannon_entr.to_csv('shannon_entropy_vals_w_labels.csv')"
   ]
  }
 ],
 "metadata": {
  "interpreter": {
   "hash": "4c416a6d761238e3ec65df9addad7475ea25b96ad7c7ead521cfb5cd9dde927a"
  },
  "kernelspec": {
   "display_name": "Python 3.9.6 64-bit",
   "language": "python",
   "name": "python3"
  },
  "language_info": {
   "codemirror_mode": {
    "name": "ipython",
    "version": 3
   },
   "file_extension": ".py",
   "mimetype": "text/x-python",
   "name": "python",
   "nbconvert_exporter": "python",
   "pygments_lexer": "ipython3",
   "version": "3.9.6"
  },
  "orig_nbformat": 4
 },
 "nbformat": 4,
 "nbformat_minor": 2
}
