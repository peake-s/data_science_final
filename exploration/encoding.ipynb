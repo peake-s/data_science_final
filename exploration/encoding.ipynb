{
 "cells": [
  {
   "cell_type": "code",
   "execution_count": 93,
   "metadata": {},
   "outputs": [],
   "source": [
    "%matplotlib inline\n",
    "import matplotlib.pyplot as plt\n",
    "import numpy as np\n",
    "import pandas as pd\n",
    "import seaborn as sns\n",
    "from sklearn.preprocessing import LabelEncoder\n",
    "from sklearn.preprocessing import OneHotEncoder"
   ]
  },
  {
   "cell_type": "code",
   "execution_count": 94,
   "metadata": {},
   "outputs": [],
   "source": [
    "cols = ['protein_seq','type']\n",
    "df = pd.read_csv('../data/sequences_training.txt')\n",
    "df.columns = cols"
   ]
  },
  {
   "cell_type": "code",
   "execution_count": 95,
   "metadata": {},
   "outputs": [
    {
     "data": {
      "text/html": [
       "<div>\n",
       "<style scoped>\n",
       "    .dataframe tbody tr th:only-of-type {\n",
       "        vertical-align: middle;\n",
       "    }\n",
       "\n",
       "    .dataframe tbody tr th {\n",
       "        vertical-align: top;\n",
       "    }\n",
       "\n",
       "    .dataframe thead th {\n",
       "        text-align: right;\n",
       "    }\n",
       "</style>\n",
       "<table border=\"1\" class=\"dataframe\">\n",
       "  <thead>\n",
       "    <tr style=\"text-align: right;\">\n",
       "      <th></th>\n",
       "      <th>protein_seq</th>\n",
       "      <th>type</th>\n",
       "    </tr>\n",
       "  </thead>\n",
       "  <tbody>\n",
       "    <tr>\n",
       "      <th>count</th>\n",
       "      <td>8794</td>\n",
       "      <td>8794</td>\n",
       "    </tr>\n",
       "    <tr>\n",
       "      <th>unique</th>\n",
       "      <td>8794</td>\n",
       "      <td>4</td>\n",
       "    </tr>\n",
       "    <tr>\n",
       "      <th>top</th>\n",
       "      <td>MAAAKAEMQLMSPLQISDPFGSFPHSPTMDNYPKLEEMMLLSNGAP...</td>\n",
       "      <td>nonDRNA</td>\n",
       "    </tr>\n",
       "    <tr>\n",
       "      <th>freq</th>\n",
       "      <td>1</td>\n",
       "      <td>7859</td>\n",
       "    </tr>\n",
       "  </tbody>\n",
       "</table>\n",
       "</div>"
      ],
      "text/plain": [
       "                                              protein_seq     type\n",
       "count                                                8794     8794\n",
       "unique                                               8794        4\n",
       "top     MAAAKAEMQLMSPLQISDPFGSFPHSPTMDNYPKLEEMMLLSNGAP...  nonDRNA\n",
       "freq                                                    1     7859"
      ]
     },
     "execution_count": 95,
     "metadata": {},
     "output_type": "execute_result"
    }
   ],
   "source": [
    "df.describe()"
   ]
  },
  {
   "cell_type": "code",
   "execution_count": 96,
   "metadata": {},
   "outputs": [],
   "source": [
    "amino_acids_groups = {\n",
    "                        'nonpolar': ['G','A','V','L','I','P','F','M','W'],\n",
    "                        'polar'   : ['S','C','T','N','Q'],\n",
    "                        'acidic'  : ['D','E'],\n",
    "                        'basic'   : ['R','H','K']                    \n",
    "                     }\n",
    "#check if one group is higher in proportion for certain interactions with certain groups than others"
   ]
  },
  {
   "cell_type": "code",
   "execution_count": 97,
   "metadata": {},
   "outputs": [
    {
     "name": "stderr",
     "output_type": "stream",
     "text": [
      "C:\\Users\\15715\\AppData\\Local\\Programs\\Python\\Python39\\lib\\site-packages\\pandas\\core\\frame.py:4906: SettingWithCopyWarning: \n",
      "A value is trying to be set on a copy of a slice from a DataFrame\n",
      "\n",
      "See the caveats in the documentation: https://pandas.pydata.org/pandas-docs/stable/user_guide/indexing.html#returning-a-view-versus-a-copy\n",
      "  return super().drop(\n"
     ]
    }
   ],
   "source": [
    "dna = df.loc[df['type'] == 'DNA']\n",
    "dna.drop(['type'],axis=1,inplace=True)\n",
    "nondrna = df.loc[df['type'] == 'nonDRNA']\n",
    "nondrna.drop(['type'],axis=1,inplace=True)\n",
    "rna = df.loc[df['type'] == 'RNA']\n",
    "rna.drop(['type'],axis=1,inplace=True)\n",
    "drna = df.loc[df['type'] == 'DRNA']\n",
    "drna.drop(['type'],axis=1,inplace=True)"
   ]
  },
  {
   "cell_type": "code",
   "execution_count": 98,
   "metadata": {},
   "outputs": [],
   "source": [
    "from collections import Counter\n",
    "def group_aa_types(df,aa_groups):\n",
    "    collection = df['protein_seq'].apply(Counter)\n",
    "    t = {'non_polar':0, 'polar':0,'acidic':0,'basic':0}\n",
    "    #this code sucks\n",
    "    l = 0\n",
    "    for idx,val in collection.iteritems(): \n",
    "        l += len(val)\n",
    "        temp = val['G'] + val['A'] + val['V'] + val['L'] + val['I'] + val['P'] + val['F'] + val['M'] + val['W']\n",
    "        t['non_polar'] += (temp)\n",
    "        temp = val['S'] + val['C'] + val['T'] + val['N'] + val['Q']\n",
    "        t['polar'] += (temp)\n",
    "        temp = val['D'] + val['E']\n",
    "        t['acidic'] += (temp)\n",
    "        temp += val['R'] + val['H'] +val['K']\n",
    "        t['basic'] += (temp)\n",
    "    \n",
    "    t['non_polar'] = t['non_polar']/l \n",
    "    t['polar'] = t['polar']/l\n",
    "    t['acidic'] = t['acidic']/l\n",
    "    t['basic'] = t['basic']/l\n",
    "    return t\n"
   ]
  },
  {
   "cell_type": "code",
   "execution_count": 99,
   "metadata": {},
   "outputs": [],
   "source": [
    "physio_dna = group_aa_types(dna,amino_acids_groups)\n",
    "physio_nondrna = group_aa_types(nondrna,amino_acids_groups)\n",
    "physio_rna = group_aa_types(rna,amino_acids_groups)\n",
    "physio_drna = group_aa_types(drna,amino_acids_groups)\n"
   ]
  },
  {
   "cell_type": "code",
   "execution_count": 100,
   "metadata": {},
   "outputs": [],
   "source": [
    "#def normalize(data):\n"
   ]
  },
  {
   "cell_type": "code",
   "execution_count": 102,
   "metadata": {},
   "outputs": [
    {
     "data": {
      "image/png": "[encoded data removed]",
      "text/plain": [
       "<Figure size 432x288 with 1 Axes>"
      ]
     },
     "metadata": {
      "needs_background": "light"
     },
     "output_type": "display_data"
    }
   ],
   "source": [
    "#labels,vals = zip(*physio_dna.items())\n",
    "#plt.bar(labels,vals,color = 'red')\n",
    "#l2,v2 = zip(*physio_drna.items())\n",
    "#plt.bar(l2,v2,color = 'k')\n",
    "X = np.arange(len(physio_dna))\n",
    "ax = plt.subplot(111)\n",
    "ax.bar(X,physio_dna.values(),width = 0.2,color='b',align='center')\n",
    "ax.bar(X-0.2,physio_drna.values(),width = 0.2,color='r',align='center')\n",
    "ax.bar(X+0.2,physio_nondrna.values(),width = 0.2,color='k',align='center')\n",
    "ax.bar(X+0.4,physio_rna.values(),width = 0.2,color = 'm',align='center')\n",
    "ax.legend(('blue = dna','drna = red','nondrna = black','rna = purple'))\n",
    "plt.xticks(X,physio_dna.keys())\n",
    "plt.title('amino acid type distributions')\n",
    "plt.show()"
   ]
  }
 ],
 "metadata": {
  "interpreter": {
   "hash": "4c416a6d761238e3ec65df9addad7475ea25b96ad7c7ead521cfb5cd9dde927a"
  },
  "kernelspec": {
   "display_name": "Python 3.9.6 64-bit",
   "language": "python",
   "name": "python3"
  },
  "language_info": {
   "codemirror_mode": {
    "name": "ipython",
    "version": 3
   },
   "file_extension": ".py",
   "mimetype": "text/x-python",
   "name": "python",
   "nbconvert_exporter": "python",
   "pygments_lexer": "ipython3",
   "version": "3.9.6"
  },
  "orig_nbformat": 4
 },
 "nbformat": 4,
 "nbformat_minor": 2
}
