{
 "cells": [
  {
   "cell_type": "code",
   "execution_count": 1,
   "metadata": {},
   "outputs": [],
   "source": [
    "%matplotlib inline\n",
    "import matplotlib.pyplot as plt\n",
    "import numpy as np\n",
    "import pandas as pd\n",
    "import seaborn as sns"
   ]
  },
  {
   "cell_type": "code",
   "execution_count": 2,
   "metadata": {},
   "outputs": [],
   "source": [
    "cols = ['protein_seq','type']\n",
    "df = pd.read_csv('../data/sequences_training.txt')\n",
    "df.columns = cols"
   ]
  },
  {
   "cell_type": "code",
   "execution_count": 3,
   "metadata": {},
   "outputs": [
    {
     "name": "stdout",
     "output_type": "stream",
     "text": [
      "unique types ['DNA' 'RNA' 'DRNA' 'nonDRNA']\n",
      "number of unique entries in each column:\n",
      "protein_seq    8794\n",
      "type              4\n",
      "dtype: int64\n",
      "value distribution of each type:\n",
      "nonDRNA    7859\n",
      "RNA         523\n",
      "DNA         390\n",
      "DRNA         22\n",
      "Name: type, dtype: int64\n"
     ]
    }
   ],
   "source": [
    "u = pd.unique(df['type'])\n",
    "n = df.nunique(axis = 0)\n",
    "print(f\"unique types {u}\")\n",
    "print(f\"number of unique entries in each column:\\n{n}\")\n",
    "print(f\"value distribution of each type:\\n{df['type'].value_counts()}\")"
   ]
  },
  {
   "cell_type": "code",
   "execution_count": 4,
   "metadata": {},
   "outputs": [
    {
     "data": {
      "image/png": "[encoded data removed]",
      "text/plain": [
       "<Figure size 432x288 with 1 Axes>"
      ]
     },
     "metadata": {
      "needs_background": "light"
     },
     "output_type": "display_data"
    }
   ],
   "source": [
    "hist = df['type'].hist(bins = 4)"
   ]
  },
  {
   "cell_type": "code",
   "execution_count": 5,
   "metadata": {},
   "outputs": [
    {
     "data": {
      "text/html": [
       "<div>\n",
       "<style scoped>\n",
       "    .dataframe tbody tr th:only-of-type {\n",
       "        vertical-align: middle;\n",
       "    }\n",
       "\n",
       "    .dataframe tbody tr th {\n",
       "        vertical-align: top;\n",
       "    }\n",
       "\n",
       "    .dataframe thead th {\n",
       "        text-align: right;\n",
       "    }\n",
       "</style>\n",
       "<table border=\"1\" class=\"dataframe\">\n",
       "  <thead>\n",
       "    <tr style=\"text-align: right;\">\n",
       "      <th></th>\n",
       "      <th>protein_seq</th>\n",
       "      <th>type</th>\n",
       "      <th>seq_len</th>\n",
       "    </tr>\n",
       "  </thead>\n",
       "  <tbody>\n",
       "    <tr>\n",
       "      <th>0</th>\n",
       "      <td>MAAAKAEMQLMSPLQISDPFGSFPHSPTMDNYPKLEEMMLLSNGAP...</td>\n",
       "      <td>DNA</td>\n",
       "      <td>533</td>\n",
       "    </tr>\n",
       "    <tr>\n",
       "      <th>1</th>\n",
       "      <td>MAAELAMGAELPSSPLAIEYVNDFDLMKFEVKKEPPEAERFCHRLP...</td>\n",
       "      <td>DNA</td>\n",
       "      <td>353</td>\n",
       "    </tr>\n",
       "    <tr>\n",
       "      <th>2</th>\n",
       "      <td>MAAGTAVGAWVLVLSLWGAVVGAQNITARIGEPLVLKCKGAPKKPP...</td>\n",
       "      <td>DNA</td>\n",
       "      <td>404</td>\n",
       "    </tr>\n",
       "    <tr>\n",
       "      <th>3</th>\n",
       "      <td>MAAPILFWHRRDLRLSDNIGLAAARAQSAQLIGLFCLDPQILQSAD...</td>\n",
       "      <td>DNA</td>\n",
       "      <td>484</td>\n",
       "    </tr>\n",
       "    <tr>\n",
       "      <th>4</th>\n",
       "      <td>MAARKQSSQPSRTPVSYEDVAVSFTQEEWEYLTSTQKTLYQKVMSE...</td>\n",
       "      <td>DNA</td>\n",
       "      <td>421</td>\n",
       "    </tr>\n",
       "    <tr>\n",
       "      <th>...</th>\n",
       "      <td>...</td>\n",
       "      <td>...</td>\n",
       "      <td>...</td>\n",
       "    </tr>\n",
       "    <tr>\n",
       "      <th>8789</th>\n",
       "      <td>YKVTLKTPSGEETIECPEDTYILDAAEEAGLDLPYSCRAGACSSCA...</td>\n",
       "      <td>nonDRNA</td>\n",
       "      <td>94</td>\n",
       "    </tr>\n",
       "    <tr>\n",
       "      <th>8790</th>\n",
       "      <td>YLDHGLGAPAPYPDPLEPRREVCELNPDCDELADHIGFQEAYRRFYGIA</td>\n",
       "      <td>nonDRNA</td>\n",
       "      <td>49</td>\n",
       "    </tr>\n",
       "    <tr>\n",
       "      <th>8791</th>\n",
       "      <td>YNSGKLEESFVRGNLERECIEEKCSFEEAREVFENTEKTNEFWKQY...</td>\n",
       "      <td>nonDRNA</td>\n",
       "      <td>409</td>\n",
       "    </tr>\n",
       "    <tr>\n",
       "      <th>8792</th>\n",
       "      <td>YPESIDWREKGAVTPVKNQNPCGSCWAFSTVATIEGINKIITGQLI...</td>\n",
       "      <td>nonDRNA</td>\n",
       "      <td>214</td>\n",
       "    </tr>\n",
       "    <tr>\n",
       "      <th>8793</th>\n",
       "      <td>YTPNDPYFSSRQYGPQKIQAPQAWDIAEGSGAKIAIVDTGVQSNHP...</td>\n",
       "      <td>nonDRNA</td>\n",
       "      <td>279</td>\n",
       "    </tr>\n",
       "  </tbody>\n",
       "</table>\n",
       "<p>8794 rows × 3 columns</p>\n",
       "</div>"
      ],
      "text/plain": [
       "                                            protein_seq     type  seq_len\n",
       "0     MAAAKAEMQLMSPLQISDPFGSFPHSPTMDNYPKLEEMMLLSNGAP...      DNA      533\n",
       "1     MAAELAMGAELPSSPLAIEYVNDFDLMKFEVKKEPPEAERFCHRLP...      DNA      353\n",
       "2     MAAGTAVGAWVLVLSLWGAVVGAQNITARIGEPLVLKCKGAPKKPP...      DNA      404\n",
       "3     MAAPILFWHRRDLRLSDNIGLAAARAQSAQLIGLFCLDPQILQSAD...      DNA      484\n",
       "4     MAARKQSSQPSRTPVSYEDVAVSFTQEEWEYLTSTQKTLYQKVMSE...      DNA      421\n",
       "...                                                 ...      ...      ...\n",
       "8789  YKVTLKTPSGEETIECPEDTYILDAAEEAGLDLPYSCRAGACSSCA...  nonDRNA       94\n",
       "8790  YLDHGLGAPAPYPDPLEPRREVCELNPDCDELADHIGFQEAYRRFYGIA  nonDRNA       49\n",
       "8791  YNSGKLEESFVRGNLERECIEEKCSFEEAREVFENTEKTNEFWKQY...  nonDRNA      409\n",
       "8792  YPESIDWREKGAVTPVKNQNPCGSCWAFSTVATIEGINKIITGQLI...  nonDRNA      214\n",
       "8793  YTPNDPYFSSRQYGPQKIQAPQAWDIAEGSGAKIAIVDTGVQSNHP...  nonDRNA      279\n",
       "\n",
       "[8794 rows x 3 columns]"
      ]
     },
     "execution_count": 5,
     "metadata": {},
     "output_type": "execute_result"
    }
   ],
   "source": [
    "#create histogram based on the length of string sequences\n",
    "data = df\n",
    "data['seq_len'] = df['protein_seq'].str.len()\n",
    "data"
   ]
  },
  {
   "cell_type": "code",
   "execution_count": 6,
   "metadata": {},
   "outputs": [
    {
     "data": {
      "text/plain": [
       "<AxesSubplot:>"
      ]
     },
     "execution_count": 6,
     "metadata": {},
     "output_type": "execute_result"
    },
    {
     "data": {
      "image/png": "[encoded data removed]",
      "text/plain": [
       "<Figure size 432x288 with 1 Axes>"
      ]
     },
     "metadata": {
      "needs_background": "light"
     },
     "output_type": "display_data"
    }
   ],
   "source": [
    "data['seq_len'].hist(bins=100)"
   ]
  },
  {
   "cell_type": "code",
   "execution_count": 7,
   "metadata": {},
   "outputs": [
    {
     "data": {
      "text/plain": [
       "<AxesSubplot:xlabel='type', ylabel='seq_len'>"
      ]
     },
     "execution_count": 7,
     "metadata": {},
     "output_type": "execute_result"
    },
    {
     "data": {
      "image/png": "[encoded data removed]",
      "text/plain": [
       "<Figure size 432x288 with 1 Axes>"
      ]
     },
     "metadata": {
      "needs_background": "light"
     },
     "output_type": "display_data"
    }
   ],
   "source": [
    "sns.stripplot(x = data['type'], y = data['seq_len'], data = data)"
   ]
  },
  {
   "cell_type": "code",
   "execution_count": 8,
   "metadata": {},
   "outputs": [
    {
     "data": {
      "text/plain": [
       "<AxesSubplot:xlabel='type', ylabel='first_letter'>"
      ]
     },
     "execution_count": 8,
     "metadata": {},
     "output_type": "execute_result"
    },
    {
     "data": {
      "image/png": "[encoded data removed]",
      "text/plain": [
       "<Figure size 432x288 with 1 Axes>"
      ]
     },
     "metadata": {
      "needs_background": "light"
     },
     "output_type": "display_data"
    }
   ],
   "source": [
    "data['first_letter'] = df['protein_seq'].astype(str).str[0]\n",
    "#print(f\"value distribution of each first letter:\\n{df['first_letter'].value_counts()}\")\n",
    "#compare labels based on the value of the first label\n",
    "sns.stripplot(x = data['type'], y = data['first_letter'], data = data)"
   ]
  },
  {
   "cell_type": "code",
   "execution_count": 9,
   "metadata": {},
   "outputs": [
    {
     "data": {
      "text/plain": [
       "<AxesSubplot:xlabel='type', ylabel='3_letters'>"
      ]
     },
     "execution_count": 9,
     "metadata": {},
     "output_type": "execute_result"
    },
    {
     "data": {
      "image/png": "[encoded data removed]",
      "text/plain": [
       "<Figure size 432x288 with 1 Axes>"
      ]
     },
     "metadata": {
      "needs_background": "light"
     },
     "output_type": "display_data"
    }
   ],
   "source": [
    "data['3_letters'] = df['protein_seq'].astype(str).str[0:3]\n",
    "sns.stripplot(x = data['type'], y = data['3_letters'], data = data)"
   ]
  },
  {
   "cell_type": "code",
   "execution_count": 10,
   "metadata": {},
   "outputs": [],
   "source": [
    "#identify subgroups within the sequence\n",
    "#quantify subgroups compared to labels\n",
    "#Plot\n",
    "#maybe\n",
    "dna = pd.DataFrame\n",
    "dna = data.loc[data['type'] == 'DNA']\n",
    "nondna = data.loc[data['type'] == 'nonDRNA']\n",
    "rna = data.loc[data['type'] == 'RNA']\n",
    "drna = data.loc[data['type'] == 'DRNA']\n"
   ]
  },
  {
   "cell_type": "code",
   "execution_count": 11,
   "metadata": {},
   "outputs": [
    {
     "name": "stdout",
     "output_type": "stream",
     "text": [
      "<class 'collections.Counter'>\n"
     ]
    },
    {
     "data": {
      "image/png": "[encoded data removed]",
      "text/plain": [
       "<Figure size 432x288 with 1 Axes>"
      ]
     },
     "metadata": {
      "needs_background": "light"
     },
     "output_type": "display_data"
    }
   ],
   "source": [
    "from collections import Counter\n",
    "dna_freqs = dna['protein_seq'].apply(Counter)\n",
    "dna_freqs = dna_freqs.sum()\n",
    "#dna_freqs.to_dict()\n",
    "print(type(dna_freqs))\n",
    "plt.bar(list(dna_freqs.keys()),dna_freqs.values())\n",
    "plt.show()"
   ]
  },
  {
   "cell_type": "code",
   "execution_count": 12,
   "metadata": {},
   "outputs": [
    {
     "data": {
      "image/png": "[encoded data removed]",
      "text/plain": [
       "<Figure size 432x288 with 1 Axes>"
      ]
     },
     "metadata": {
      "needs_background": "light"
     },
     "output_type": "display_data"
    }
   ],
   "source": [
    "nondna_freqs = nondna['protein_seq'].apply(Counter)\n",
    "nondna_freqs = nondna_freqs.sum()\n",
    "plt.bar(list(nondna_freqs.keys()),nondna_freqs.values())\n",
    "plt.show()"
   ]
  },
  {
   "cell_type": "code",
   "execution_count": 13,
   "metadata": {},
   "outputs": [
    {
     "data": {
      "image/png": "[encoded data removed]",
      "text/plain": [
       "<Figure size 432x288 with 1 Axes>"
      ]
     },
     "metadata": {
      "needs_background": "light"
     },
     "output_type": "display_data"
    }
   ],
   "source": [
    "rna_freqs = rna['protein_seq'].apply(Counter)\n",
    "rna_freqs = rna_freqs.sum()\n",
    "plt.bar(list(rna_freqs.keys()),rna_freqs.values())\n",
    "plt.show()"
   ]
  },
  {
   "cell_type": "code",
   "execution_count": 14,
   "metadata": {},
   "outputs": [
    {
     "data": {
      "image/png": "[encoded data removed]",
      "text/plain": [
       "<Figure size 432x288 with 1 Axes>"
      ]
     },
     "metadata": {
      "needs_background": "light"
     },
     "output_type": "display_data"
    }
   ],
   "source": [
    "drna_freqs = drna['protein_seq'].apply(Counter)\n",
    "drna_freqs = drna_freqs.sum()\n",
    "plt.bar(list(drna_freqs.keys()),drna_freqs.values())\n",
    "plt.show()"
   ]
  },
  {
   "cell_type": "code",
   "execution_count": 16,
   "metadata": {},
   "outputs": [],
   "source": [
    "amino_acids_groups = {\n",
    "                        'nonpolar': ['G','A','V','L','I','P','F','M','W'],\n",
    "                        'polar'   : ['S','C','T','N','Q'],\n",
    "                        'acidic'  : ['D','E'],\n",
    "                        'basic'   : ['R','H','K']                    \n",
    "                     }"
   ]
  }
 ],
 "metadata": {
  "interpreter": {
   "hash": "4c416a6d761238e3ec65df9addad7475ea25b96ad7c7ead521cfb5cd9dde927a"
  },
  "kernelspec": {
   "display_name": "Python 3.9.6 64-bit",
   "language": "python",
   "name": "python3"
  },
  "language_info": {
   "codemirror_mode": {
    "name": "ipython",
    "version": 3
   },
   "file_extension": ".py",
   "mimetype": "text/x-python",
   "name": "python",
   "nbconvert_exporter": "python",
   "pygments_lexer": "ipython3",
   "version": "3.9.6"
  },
  "orig_nbformat": 4
 },
 "nbformat": 4,
 "nbformat_minor": 2
}
